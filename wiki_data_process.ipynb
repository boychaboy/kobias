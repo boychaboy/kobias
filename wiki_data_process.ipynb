{
 "cells": [
  {
   "cell_type": "markdown",
   "id": "d36d2d08",
   "metadata": {},
   "source": [
    "# Dataset"
   ]
  },
  {
   "cell_type": "code",
   "execution_count": 14,
   "id": "b3bb8787",
   "metadata": {},
   "outputs": [],
   "source": [
    "import pandas as pd"
   ]
  },
  {
   "cell_type": "code",
   "execution_count": 17,
   "id": "475f0926",
   "metadata": {},
   "outputs": [],
   "source": [
    "f = open(\"KO_210601.txt\")\n",
    "data = list()\n",
    "for line in f.readlines():\n",
    "    line = line.strip().split('\\t')\n",
    "    if len(line) == 2:\n",
    "        d = dict()\n",
    "        d['label'] = line[0]\n",
    "        d['sent'] = line[1]\n",
    "    data.append(d)\n",
    "df = pd.DataFrame(data)"
   ]
  },
  {
   "cell_type": "code",
   "execution_count": 20,
   "id": "d50927ec",
   "metadata": {},
   "outputs": [],
   "source": [
    "df.to_csv(\"ko_210601.csv\", index=False)"
   ]
  },
  {
   "cell_type": "markdown",
   "id": "01f95369",
   "metadata": {},
   "source": [
    "# "
   ]
  }
 ],
 "metadata": {
  "kernelspec": {
   "display_name": "Python 3",
   "language": "python",
   "name": "python3"
  },
  "language_info": {
   "codemirror_mode": {
    "name": "ipython",
    "version": 3
   },
   "file_extension": ".py",
   "mimetype": "text/x-python",
   "name": "python",
   "nbconvert_exporter": "python",
   "pygments_lexer": "ipython3",
   "version": "3.8.0"
  }
 },
 "nbformat": 4,
 "nbformat_minor": 5
}
